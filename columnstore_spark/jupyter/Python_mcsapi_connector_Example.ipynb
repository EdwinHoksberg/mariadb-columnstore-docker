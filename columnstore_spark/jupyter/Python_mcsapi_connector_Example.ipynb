{
 "cells": [
  {
   "cell_type": "markdown",
   "metadata": {},
   "source": [
    "# Python mcsapi connector Example\n",
    "## Insert through ColumnstoreExporter\n",
    "The necessary libraries are loaded."
   ]
  },
  {
   "cell_type": "code",
   "execution_count": null,
   "metadata": {},
   "outputs": [],
   "source": [
    "from pyspark import SparkContext\n",
    "from pyspark.sql import Row, SQLContext\n",
    "import columnStoreExporter\n",
    "sc = SparkContext(\"local\", \"MariaDB Spark ColumnStore example\")\n",
    "sqlContext = SQLContext(sc)"
   ]
  },
  {
   "cell_type": "markdown",
   "metadata": {},
   "source": [
    "A sample DataFrame is created, that shows numbers and their ASCII representation,"
   ]
  },
  {
   "cell_type": "code",
   "execution_count": null,
   "metadata": {},
   "outputs": [],
   "source": [
    "sampleDF = sqlContext.createDataFrame(sc.parallelize(range(0, 128))\n",
    "                                      .map(lambda i: Row(number=i, ASCII_representation=chr(i))))\n",
    "sampleDF.printSchema()\n",
    "sampleDF.registerTempTable(\"df\")\n",
    "sqlContext.sql(\"SELECT number, ASCII_representation from df WHERE number > 64 LIMIT 10\").show()"
   ]
  },
  {
   "cell_type": "markdown",
   "metadata": {},
   "source": [
    " and is inserted into MariaDB CoumnStore through ColumnstoreExporter in database \"test\" and existing table \"pythonexample\"."
   ]
  },
  {
   "cell_type": "code",
   "execution_count": null,
   "metadata": {},
   "outputs": [],
   "source": [
    "columnStoreExporter.export(\"test\",\"pythonexample\",sampleDF)"
   ]
  }
 ],
 "metadata": {
  "kernelspec": {
   "display_name": "Python 3",
   "language": "python",
   "name": "python3"
  },
  "language_info": {
   "codemirror_mode": {
    "name": "ipython",
    "version": 3
   },
   "file_extension": ".py",
   "mimetype": "text/x-python",
   "name": "python",
   "nbconvert_exporter": "python",
   "pygments_lexer": "ipython3",
   "version": "3.6.3"
  }
 },
 "nbformat": 4,
 "nbformat_minor": 2
}
