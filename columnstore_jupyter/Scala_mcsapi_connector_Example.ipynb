{
 "cells": [
  {
   "cell_type": "markdown",
   "metadata": {},
   "source": [
    "# Scala mcsapi connector Example\n",
    "## Insert through ColumnstoreExporter\n",
    "The necessary libraries are loaded."
   ]
  },
  {
   "cell_type": "code",
   "execution_count": null,
   "metadata": {},
   "outputs": [],
   "source": [
    "import com.mariadb.columnstore.api.connector.ColumnStoreExporter\n",
    "import org.apache.spark.sql.SQLContext\n",
    "val sqlContext = new SQLContext(sc)\n",
    "import sqlContext.implicits._"
   ]
  },
  {
   "cell_type": "markdown",
   "metadata": {},
   "source": [
    "A sample DataFrame is created, that shows numbers and their ASCII representation,"
   ]
  },
  {
   "cell_type": "code",
   "execution_count": null,
   "metadata": {},
   "outputs": [],
   "source": [
    "val sampleDF = sc.makeRDD(0 to 127).map(i => (i, i.toChar.toString)).toDF(\"number\", \"ASCII_representation\")\n",
    "sampleDF.printSchema()\n",
    "sampleDF.registerTempTable(\"df\")\n",
    "sqlContext.sql(\"SELECT number, ASCII_representation from df WHERE number > 64 LIMIT 10\").show()"
   ]
  },
  {
   "cell_type": "markdown",
   "metadata": {},
   "source": [
    " and is inserted into MariaDB CoumnStore through ColumnstoreExporter in database \"test\" and existing table \"scalaexample\"."
   ]
  },
  {
   "cell_type": "code",
   "execution_count": null,
   "metadata": {},
   "outputs": [],
   "source": [
    "ColumnStoreExporter.export(\"test\",\"scalaexample\",sampleDF)"
   ]
  }
 ],
 "metadata": {
  "kernelspec": {
   "display_name": "Apache Toree - Scala",
   "language": "scala",
   "name": "apache_toree_scala"
  },
  "language_info": {
   "file_extension": ".scala",
   "name": "scala",
   "version": "2.11.8"
  }
 },
 "nbformat": 4,
 "nbformat_minor": 2
}
